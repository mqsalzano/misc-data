{
 "cells": [
  {
   "cell_type": "markdown",
   "id": "65394ab3",
   "metadata": {},
   "source": [
    "## Set-up\n",
    "\n",
    "Loading in packages and data"
   ]
  },
  {
   "cell_type": "code",
   "execution_count": 1,
   "id": "2aad4f12",
   "metadata": {},
   "outputs": [
    {
     "ename": "FileNotFoundError",
     "evalue": "[Errno 2] No such file or directory: 'directory'",
     "output_type": "error",
     "traceback": [
      "\u001b[0;31m---------------------------------------------------------------------------\u001b[0m",
      "\u001b[0;31mFileNotFoundError\u001b[0m                         Traceback (most recent call last)",
      "\u001b[0;32m<ipython-input-1-5674c729c71b>\u001b[0m in \u001b[0;36m<module>\u001b[0;34m\u001b[0m\n\u001b[1;32m     20\u001b[0m \u001b[0;32mfrom\u001b[0m \u001b[0mstatsmodels\u001b[0m\u001b[0;34m.\u001b[0m\u001b[0mstats\u001b[0m\u001b[0;34m.\u001b[0m\u001b[0mmulticomp\u001b[0m \u001b[0;32mimport\u001b[0m \u001b[0mpairwise_tukeyhsd\u001b[0m\u001b[0;34m\u001b[0m\u001b[0;34m\u001b[0m\u001b[0m\n\u001b[1;32m     21\u001b[0m \u001b[0;34m\u001b[0m\u001b[0m\n\u001b[0;32m---> 22\u001b[0;31m \u001b[0mos\u001b[0m\u001b[0;34m.\u001b[0m\u001b[0mchdir\u001b[0m\u001b[0;34m(\u001b[0m\u001b[0;34m'directory'\u001b[0m\u001b[0;34m)\u001b[0m \u001b[0;31m#directory removed\u001b[0m\u001b[0;34m\u001b[0m\u001b[0;34m\u001b[0m\u001b[0m\n\u001b[0m\u001b[1;32m     23\u001b[0m \u001b[0;34m\u001b[0m\u001b[0m\n",
      "\u001b[0;31mFileNotFoundError\u001b[0m: [Errno 2] No such file or directory: 'directory'"
     ]
    }
   ],
   "source": [
    "import os\n",
    "import csv\n",
    "import pandas as pd\n",
    "import seaborn as sb\n",
    "import numpy as np\n",
    "from numpy import var, mean\n",
    "import matplotlib.pyplot as plt\n",
    "import random\n",
    "import matplotlib.dates as mdates\n",
    "import datetime as dt\n",
    "import sklearn\n",
    "from sklearn import datasets, linear_model\n",
    "from sklearn.metrics import mean_squared_error, r2_score\n",
    "import scipy as spy\n",
    "from scipy.stats import shapiro\n",
    "import math\n",
    "from math import sqrt\n",
    "import statsmodels.api as sm\n",
    "from statsmodels.formula.api import ols\n",
    "from statsmodels.stats.multicomp import pairwise_tukeyhsd\n",
    "\n",
    "os.chdir('directory') #directory removed\n",
    "\n"
   ]
  },
  {
   "cell_type": "code",
   "execution_count": null,
   "id": "61b94226",
   "metadata": {},
   "outputs": [],
   "source": [
    "runmetrics = pd.read_csv('filename') #filename removed\n",
    "list(runmetrics)"
   ]
  },
  {
   "cell_type": "code",
   "execution_count": null,
   "id": "16198010",
   "metadata": {},
   "outputs": [],
   "source": [
    "len(runmetrics)"
   ]
  },
  {
   "cell_type": "markdown",
   "id": "81627474",
   "metadata": {},
   "source": [
    "Defining functions"
   ]
  },
  {
   "cell_type": "code",
   "execution_count": null,
   "id": "48012872",
   "metadata": {},
   "outputs": [],
   "source": [
    "def parseTime(timeString):\n",
    "    saveTime = timeString[-12:]\n",
    "    return(saveTime)\n",
    "\n",
    " ### UNUSED ###\n",
    "def stringIndex(tempString, string_to_find):\n",
    "    idx = []\n",
    "    end = len(tempString)\n",
    "    start = 0\n",
    "    while start < len(tempString):\n",
    "        tempIdx = teststring.find(string_to_find, start, end)\n",
    "        if tempIdx >=0:\n",
    "            idx.append(tempIdx)\n",
    "            start = tempIdx + 1\n",
    "        else:\n",
    "            break\n",
    "    return(idx)\n",
    "### ###\n",
    "\n",
    "def parsePersona(tempstring):\n",
    "    start = (tempstring.find('\"question12\":')) + len('\"question12\":') + 2\n",
    "    end = (tempstring.find('\"question13\"'))-3\n",
    "    answer = tempstring[start:end]\n",
    "    return(answer)\n",
    "\n",
    "def parseID(tempstring):\n",
    "    x = (tempstring.find('\"id\":')) + len('\"id\":') + 2\n",
    "    y = (tempstring.find('\"data\"'))-3\n",
    "    ID = tempstring[x:y]\n",
    "    return(ID)\n",
    "\n",
    "def definePersona(entry):\n",
    "    if entry == 'My physical health depends on it' or entry == 'To tone, build, or maintain my current physique':\n",
    "        persona = 'Goal Seeker'\n",
    "    elif entry == 'To be outdoors':\n",
    "        persona = 'Trail'\n",
    "    elif entry == 'To run longer or faster':\n",
    "        persona = 'Pacer'\n",
    "    else:\n",
    "        persona = 'Soul Runner'\n",
    "    return(persona)"
   ]
  },
  {
   "cell_type": "markdown",
   "id": "fd729d60",
   "metadata": {},
   "source": [
    "Converting time as a string into time format (removing date)."
   ]
  },
  {
   "cell_type": "code",
   "execution_count": null,
   "id": "c16847cc",
   "metadata": {},
   "outputs": [],
   "source": [
    "tempTime = runmetrics.local_start_time.apply(parseTime)\n",
    "runmetrics['time_of_day'] = tempTime\n",
    "runmetrics.time_of_day = pd.to_datetime(runmetrics.time_of_day,format= '%H:%M:%S.%f' ).dt.time"
   ]
  },
  {
   "cell_type": "code",
   "execution_count": null,
   "id": "53046e49",
   "metadata": {},
   "outputs": [],
   "source": [
    "runmetrics.local_start_time"
   ]
  },
  {
   "cell_type": "code",
   "execution_count": null,
   "id": "0607727c",
   "metadata": {},
   "outputs": [],
   "source": [
    "#converting to datetime to see distribution of runs during day - date not preserved\n",
    "tempDT = pd.to_datetime(runmetrics.time_of_day, format='%H:%M:%S')\n",
    "\n",
    "#converting to datetime to see distribution of runs during day - date preserved\n",
    "tempDT2 = pd.to_datetime(runmetrics.local_start_time, format = '%Y/%m/%d %H:%M:%S.%f')"
   ]
  },
  {
   "cell_type": "code",
   "execution_count": null,
   "id": "96e0d750",
   "metadata": {},
   "outputs": [],
   "source": [
    "start_day = tempDT2.min()\n",
    "finish_day = tempDT2.max()\n",
    "print('Start = ', start_day)\n",
    "print('Finish = ', finish_day)\n",
    "\n",
    "challenge_length = finish_day - start_day\n",
    "print('Difference = ', challenge_length)\n"
   ]
  },
  {
   "cell_type": "code",
   "execution_count": null,
   "id": "23a78c99",
   "metadata": {},
   "outputs": [],
   "source": [
    "challenge_start = dt.datetime(2020, 12, 14)\n",
    "challenge_end = dt.datetime(2021, 4, 2)"
   ]
  },
  {
   "cell_type": "code",
   "execution_count": null,
   "id": "0a4f447f",
   "metadata": {},
   "outputs": [],
   "source": [
    "runmetrics = runmetrics[(tempDT2 > challenge_start) & (tempDT2 < challenge_end)]\n",
    "tempDT = tempDT[(tempDT2 > challenge_start) & (tempDT2 < challenge_end)]\n",
    "tempDT2 = tempDT2[(tempDT2 > challenge_start) & (tempDT2 < challenge_end)]"
   ]
  },
  {
   "cell_type": "code",
   "execution_count": null,
   "id": "11ec6c15",
   "metadata": {},
   "outputs": [],
   "source": [
    "plt.figure(figsize = (9,6))\n",
    "sb.histplot(tempDT)\n",
    "plt.title('Time of Day for Runs')\n",
    ";"
   ]
  },
  {
   "cell_type": "code",
   "execution_count": null,
   "id": "b3e0788d",
   "metadata": {},
   "outputs": [],
   "source": [
    "tempDT2.groupby(tempDT2.dt.hour).count().plot(kind=\"bar\")"
   ]
  },
  {
   "cell_type": "code",
   "execution_count": null,
   "id": "3bea4c57",
   "metadata": {},
   "outputs": [],
   "source": [
    "plt.figure(figsize = (9,6))\n",
    "sb.histplot(tempDT2)\n",
    "plt.title('Runs Across days')\n",
    ";"
   ]
  },
  {
   "cell_type": "markdown",
   "id": "d1d4e19f",
   "metadata": {},
   "source": [
    "Plotting distribution of vertical stiffness"
   ]
  },
  {
   "cell_type": "code",
   "execution_count": null,
   "id": "e7e6c573",
   "metadata": {},
   "outputs": [],
   "source": [
    "runmetrics.average_kvert_running.describe()"
   ]
  },
  {
   "cell_type": "code",
   "execution_count": null,
   "id": "0ad5cc6b",
   "metadata": {},
   "outputs": [],
   "source": [
    "runmetrics.average_kvert_running.mean() + (3*runmetrics.average_kvert_running.std())\n",
    "runmetrics.average_kvert_running.mean() - (3*runmetrics.average_kvert_running.std())"
   ]
  },
  {
   "cell_type": "code",
   "execution_count": null,
   "id": "1d4db5f8",
   "metadata": {},
   "outputs": [],
   "source": [
    "#viewing distribution of vertical stiffness values\n",
    "plt.figure(figsize = (9,6))\n",
    "sb.histplot(runmetrics.average_kvert_running, binwidth = 1)\n",
    "plt.title('Vertical Stiffness')\n",
    ";\n",
    "\n",
    "shapiro(runmetrics.average_kvert_running)"
   ]
  },
  {
   "cell_type": "code",
   "execution_count": null,
   "id": "46db4bd4",
   "metadata": {},
   "outputs": [],
   "source": [
    "#viewing extreme highs\n",
    "plt.figure(figsize = (9,6))\n",
    "sb.histplot(runmetrics.average_kvert_running[runmetrics.average_kvert_running > 40], binwidth = 1)\n",
    "plt.title('Vertical Stiffness')\n",
    ";"
   ]
  },
  {
   "cell_type": "code",
   "execution_count": null,
   "id": "a4a39d1d",
   "metadata": {},
   "outputs": [],
   "source": [
    "#viewing extreme lows\n",
    "plt.figure(figsize = (9,6))\n",
    "sb.histplot(runmetrics.average_kvert_running[runmetrics.average_kvert_running < 20], binwidth = 1)\n",
    "plt.title('Vertical Stiffness')\n",
    ";"
   ]
  },
  {
   "cell_type": "markdown",
   "id": "735b8d4b",
   "metadata": {},
   "source": [
    "Plotting distribution of ground contact time"
   ]
  },
  {
   "cell_type": "code",
   "execution_count": null,
   "id": "014227c1",
   "metadata": {},
   "outputs": [],
   "source": [
    "runmetrics.average_gct_running.describe()"
   ]
  },
  {
   "cell_type": "code",
   "execution_count": null,
   "id": "a79333b1",
   "metadata": {},
   "outputs": [],
   "source": [
    "plt.figure(figsize = (9,6))\n",
    "sb.histplot(runmetrics.average_gct_running, binwidth = 1)\n",
    "plt.title('Ground Contact Time')\n",
    ";"
   ]
  },
  {
   "cell_type": "code",
   "execution_count": null,
   "id": "4c5708bf",
   "metadata": {},
   "outputs": [],
   "source": [
    "#viewing extreme highs\n",
    "plt.figure(figsize = (9,6))\n",
    "sb.histplot(runmetrics.average_gct_running[runmetrics.average_gct_running > 275], binwidth = 1)\n",
    "plt.title('Ground Contact Time')\n",
    ";"
   ]
  },
  {
   "cell_type": "code",
   "execution_count": null,
   "id": "76bf7831",
   "metadata": {},
   "outputs": [],
   "source": [
    "#viewing extreme lows\n",
    "plt.figure(figsize = (9,6))\n",
    "sb.histplot(runmetrics.average_gct_running[runmetrics.average_gct_running < 200], binwidth = 1)\n",
    "plt.title('Ground Contact Time')\n",
    ";"
   ]
  },
  {
   "cell_type": "markdown",
   "id": "b2cf6b6e",
   "metadata": {},
   "source": [
    "Plotting distribution of cadence"
   ]
  },
  {
   "cell_type": "code",
   "execution_count": null,
   "id": "8aab1669",
   "metadata": {},
   "outputs": [],
   "source": [
    "runmetrics.average_cadence_running.describe()"
   ]
  },
  {
   "cell_type": "code",
   "execution_count": null,
   "id": "a4ba183f",
   "metadata": {},
   "outputs": [],
   "source": [
    "plt.figure(figsize = (9,6))\n",
    "sb.histplot(runmetrics.average_cadence_running, binwidth = 1)\n",
    "plt.title('Cadence')\n",
    ";"
   ]
  },
  {
   "cell_type": "code",
   "execution_count": null,
   "id": "d587adee",
   "metadata": {},
   "outputs": [],
   "source": [
    "plt.figure(figsize = (9,6))\n",
    "sb.histplot(runmetrics.average_cadence_running[(runmetrics.average_cadence_running > 1) & (runmetrics.average_cadence_running < 125)], binwidth = 1)\n",
    "plt.title('Cadence')\n",
    ";\n",
    "\n",
    "#runmetrics[(runmetrics.average_cadence_running >1) & (runmetrics.average_cadence_running < 50)].groupby('activity_type').size()"
   ]
  },
  {
   "cell_type": "code",
   "execution_count": null,
   "id": "053e8e67",
   "metadata": {},
   "outputs": [],
   "source": [
    "runmetrics.plot(x = \"time_of_day\", y = \"average_kvert\", style=\".\")"
   ]
  },
  {
   "cell_type": "code",
   "execution_count": null,
   "id": "a78a59ea",
   "metadata": {},
   "outputs": [],
   "source": [
    "runmetrics['average_kvert'] = np.where(runmetrics['average_kvert'] == 0.0, np.NaN, runmetrics['average_kvert'])\n",
    "\n",
    "runmetrics.plot(x = \"time_of_day\", y = \"average_kvert\", style=\".\")"
   ]
  },
  {
   "cell_type": "markdown",
   "id": "ba0fcf02",
   "metadata": {},
   "source": [
    "Find proportion of runner personas in cohort."
   ]
  },
  {
   "cell_type": "code",
   "execution_count": null,
   "id": "fa5b63ea",
   "metadata": {},
   "outputs": [],
   "source": [
    "onboardSurvey = pd.read_csv('filename2.csv') #file name removed\n",
    "\n",
    "runners = pd.DataFrame(columns = ['member_id', 'Persona_text'])\n",
    "\n",
    "print(runners)\n",
    "columns = list(runners)\n",
    "\n",
    "data = []"
   ]
  },
  {
   "cell_type": "code",
   "execution_count": null,
   "id": "0596032b",
   "metadata": {},
   "outputs": [],
   "source": [
    "for row in onboardSurvey.index:\n",
    "    values = [onboardSurvey.member_id[row], parsePersona(onboardSurvey.document[row])]\n",
    "    pairs = zip(columns, values)\n",
    "    tempDict = dict(pairs)\n",
    "    data.append(tempDict)\n",
    "    \n",
    "runners = runners.append(data, ignore_index=True)\n",
    "\n",
    "runners['Persona_group'] = list(map(definePersona, runners.Persona_text))\n",
    "len(runners)\n",
    "runners = runners.drop_duplicates()\n",
    "len(runners)\n"
   ]
  },
  {
   "cell_type": "code",
   "execution_count": null,
   "id": "04d0e8f9",
   "metadata": {},
   "outputs": [],
   "source": [
    "runners"
   ]
  },
  {
   "cell_type": "code",
   "execution_count": null,
   "id": "9e05d012",
   "metadata": {},
   "outputs": [],
   "source": [
    "newDF = pd.DataFrame( data = {'member_id': runmetrics.member_id, 'time_of_day': tempDT})\n",
    "newDF"
   ]
  },
  {
   "cell_type": "code",
   "execution_count": null,
   "id": "12424c98",
   "metadata": {},
   "outputs": [],
   "source": [
    "newDF2 = pd.DataFrame( data = {'member_id': runmetrics.member_id, 'time_of_day': tempDT2})\n",
    "newDF2"
   ]
  },
  {
   "cell_type": "code",
   "execution_count": null,
   "id": "100e1ff9",
   "metadata": {},
   "outputs": [],
   "source": [
    "runmetricsV2 = runmetrics.merge(runners, how='inner', on='member_id')"
   ]
  },
  {
   "cell_type": "code",
   "execution_count": null,
   "id": "3808f939",
   "metadata": {},
   "outputs": [],
   "source": [
    "unqIDrun1 = list(set(runmetrics.member_id))\n",
    "unqIDrun2 = list(set(runmetricsV2.member_id))\n",
    "\n",
    "print(len(unqIDrun1))\n",
    "print(len(unqIDrun2))"
   ]
  },
  {
   "cell_type": "code",
   "execution_count": null,
   "id": "5a984971",
   "metadata": {},
   "outputs": [],
   "source": [
    "len(runmetricsV2)\n"
   ]
  },
  {
   "cell_type": "code",
   "execution_count": null,
   "id": "3cb42f5d",
   "metadata": {},
   "outputs": [],
   "source": [
    "# Unused but keeping for possible later use\n",
    "#runmetricsV2 = pd.concat([runmetrics, runners.Persona_group, runners.Persona_text], axis = 1)"
   ]
  },
  {
   "cell_type": "code",
   "execution_count": null,
   "id": "03670fd9",
   "metadata": {},
   "outputs": [],
   "source": [
    "ID_bool = runmetricsV2.member_id.duplicated()\n",
    "\n",
    "\n",
    "for index, elem in enumerate(ID_bool):\n",
    "    if elem == False:\n",
    "        print(index)\n",
    "        \n",
    "temp = runmetricsV2[~ID_bool]"
   ]
  },
  {
   "cell_type": "code",
   "execution_count": null,
   "id": "fd779143",
   "metadata": {},
   "outputs": [],
   "source": [
    "temp.groupby('Persona_group').size()"
   ]
  },
  {
   "cell_type": "code",
   "execution_count": null,
   "id": "6e087e02",
   "metadata": {},
   "outputs": [],
   "source": [
    "(temp.groupby('Persona_group').size()/len(temp)*100).plot(kind = 'bar', rot = 0)\n",
    "plt.title('Proportion of Runner Personas (N = {})' .format(len(temp)))\n",
    "plt.ylabel('Percentage')\n",
    "plt.xlabel(None)"
   ]
  },
  {
   "cell_type": "code",
   "execution_count": null,
   "id": "35acfe39",
   "metadata": {},
   "outputs": [],
   "source": [
    "runmetrics.groupby('member_id').size().sort_values()"
   ]
  },
  {
   "cell_type": "code",
   "execution_count": null,
   "id": "a9946c39",
   "metadata": {},
   "outputs": [],
   "source": []
  },
  {
   "cell_type": "code",
   "execution_count": null,
   "id": "d934e463",
   "metadata": {},
   "outputs": [],
   "source": [
    "activity_task = pd.read_csv('filename3') #file name removed"
   ]
  },
  {
   "cell_type": "code",
   "execution_count": null,
   "id": "5bcf202a",
   "metadata": {},
   "outputs": [],
   "source": [
    "activity_task"
   ]
  },
  {
   "cell_type": "code",
   "execution_count": null,
   "id": "4d1ef750",
   "metadata": {},
   "outputs": [],
   "source": [
    "runmetricsV3 = runmetricsV2.merge(activity_task, how='left', on='activity_id')"
   ]
  },
  {
   "cell_type": "code",
   "execution_count": null,
   "id": "e6432ca2",
   "metadata": {},
   "outputs": [],
   "source": [
    "print('RunV1: ' , len(runmetrics))\n",
    "print('RunV2: ' , len(runmetricsV2))\n",
    "print('RunV3: ' , len(runmetricsV3))\n",
    "print('unique activity: ', len(list(set(runmetricsV2.activity_id))))\n",
    "print('unique activity: ', len(list(set(runmetricsV3.activity_id))))"
   ]
  },
  {
   "cell_type": "code",
   "execution_count": null,
   "id": "2ea92af4",
   "metadata": {},
   "outputs": [],
   "source": [
    "runmetricsV3.segment_name = runmetricsV3.segment_name.fillna('fun run')\n",
    "runmetricsV3.task_id = runmetricsV3.task_id.fillna('no_task_id')"
   ]
  },
  {
   "cell_type": "code",
   "execution_count": null,
   "id": "973a4bb7",
   "metadata": {
    "scrolled": true
   },
   "outputs": [],
   "source": [
    "print(set(runmetricsV3.segment_name))\n",
    "print(set(runmetricsV3.task_id))\n"
   ]
  },
  {
   "cell_type": "markdown",
   "id": "f666e45c",
   "metadata": {},
   "source": [
    "RQ4: How does time of day affect runmetrics? One hypothesis is that running in the dark could result in shorter stride length and slower speeds. Another hypothesis may be that vertical stiffness is greater in the morning. <br>\n",
    "<br>\n",
    "-Loop through all subjects <br>\n",
    "-For eachs subject, plot each runmetrics against time of day (limit plotting to a few), find regression equation and correlation coefficient - store in another dataframe <br>\n",
    "-Look at distributions of slopes and correlation coefficients"
   ]
  },
  {
   "cell_type": "code",
   "execution_count": null,
   "id": "1845124c",
   "metadata": {},
   "outputs": [],
   "source": [
    "#for elem in test_time:\n",
    "#   new_time = elem.hour + (elem.minute/60)\n",
    " #   converted_times.append(new_time)"
   ]
  },
  {
   "cell_type": "code",
   "execution_count": null,
   "id": "5d536735",
   "metadata": {},
   "outputs": [],
   "source": [
    "def convertTime(list_of_times):\n",
    "    converted_times = []\n",
    "    for elem in list_of_times:\n",
    "        new_time = elem.hour + (elem.minute/60)\n",
    "        converted_times.append(new_time)\n",
    "    return(converted_times)"
   ]
  },
  {
   "cell_type": "code",
   "execution_count": null,
   "id": "21d02328",
   "metadata": {},
   "outputs": [],
   "source": [
    "runmetricsV3['converted_times'] = pd.Series(convertTime(runmetricsV3.time_of_day))"
   ]
  },
  {
   "cell_type": "code",
   "execution_count": null,
   "id": "828133ec",
   "metadata": {},
   "outputs": [],
   "source": [
    "challenge_fun_run = runmetricsV3[(runmetricsV3.segment_name == 'fun run')]\n",
    "len(challenge_fun_run)"
   ]
  },
  {
   "cell_type": "code",
   "execution_count": null,
   "id": "f0629fa4",
   "metadata": {},
   "outputs": [],
   "source": [
    "unq_subj = list(set(challenge_fun_run.member_id))\n",
    "\n",
    "len(unq_subj)"
   ]
  },
  {
   "cell_type": "code",
   "execution_count": null,
   "id": "0140f0c7",
   "metadata": {},
   "outputs": [],
   "source": [
    "#runmetricsV3.average_kvert_running.isnull().sum()"
   ]
  },
  {
   "cell_type": "code",
   "execution_count": null,
   "id": "ae2fd48e",
   "metadata": {},
   "outputs": [],
   "source": [
    "fig, axes = plt.subplots(3, 3, figsize = (12,9) )\n",
    "plt.tight_layout(pad = 5)\n",
    "count = -1\n",
    "rowcount = 0\n",
    "time_kvert_correlations = pd.DataFrame(columns = ['member_id','NumRuns', 'Slope', 'Intercept', 'Pearson', 'pval'])\n",
    "for subj_id in unq_subj:\n",
    "    print('ID: ', subj_id)\n",
    "    rowcount += 1\n",
    "    print('Count: ',rowcount)\n",
    "    s_idx = challenge_fun_run.member_id == subj_id\n",
    "    print(len(s_idx))\n",
    "    if sum(s_idx) < 5:\n",
    "        print('Skipping Subject - <5 runs')\n",
    "    else:\n",
    "        time_of_run =  challenge_fun_run.converted_times[s_idx]\n",
    "        kvert_of_run = challenge_fun_run.average_kvert_running[s_idx]\n",
    "        if time_of_run.isnull().sum() > 0 or kvert_of_run.isnull().sum() > 0:\n",
    "            print('Skipping Subject - Null Values')\n",
    "        else:\n",
    "            count += 1\n",
    "            reg = linear_model.LinearRegression().fit(time_of_run.values.reshape(-1,1), kvert_of_run.values.reshape(-1,1))\n",
    "        #print(reg.coef_)\n",
    "       # print(reg.intercept_)\n",
    "       # print(spy.stats.pearsonr(time_of_run, kvert_of_run))\n",
    "            try:    \n",
    "                temp_slope = round(float(reg.coef_), 4)\n",
    "                temp_intercept = round(float(reg.intercept_), 4)\n",
    "                temp_pearson = spy.stats.pearsonr(time_of_run.values, kvert_of_run.values)\n",
    "                num_runs = sum(s_idx)\n",
    "                print([subj_id,num_runs, temp_slope, temp_intercept, temp_pearson[0],temp_pearson[1]])\n",
    "                time_kvert_correlations.loc[count] =[subj_id,num_runs, temp_slope, temp_intercept, temp_pearson[0],temp_pearson[1]]\n",
    "            except:\n",
    "                print('Saving Data Failed')\n",
    "            if count < 9:\n",
    "                print('Graph Count:', count)\n",
    "                row = count//3\n",
    "                column = count%3\n",
    "                axes[row,column].scatter(time_of_run,kvert_of_run)\n",
    "            #axes[row,column].xaxis.set_major_formatter(mdates.DateFormatter('%H:%M:%S'))\n",
    "            #axes[row,column].tick_params(labelrotation=45)\n",
    "        \n",
    "            #plt.show()\n",
    "        "
   ]
  },
  {
   "cell_type": "code",
   "execution_count": null,
   "id": "3284a848",
   "metadata": {},
   "outputs": [],
   "source": [
    "time_kvert_correlations"
   ]
  },
  {
   "cell_type": "code",
   "execution_count": null,
   "id": "63c30a53",
   "metadata": {},
   "outputs": [],
   "source": [
    "sb.histplot(time_kvert_correlations.Slope)"
   ]
  },
  {
   "cell_type": "code",
   "execution_count": null,
   "id": "20215a92",
   "metadata": {},
   "outputs": [],
   "source": [
    "sb.histplot(time_kvert_correlations.Intercept)"
   ]
  },
  {
   "cell_type": "code",
   "execution_count": null,
   "id": "59a31a44",
   "metadata": {},
   "outputs": [],
   "source": [
    "sb.histplot(time_kvert_correlations.Pearson, binwidth = 0.05)"
   ]
  },
  {
   "cell_type": "code",
   "execution_count": null,
   "id": "1a15654d",
   "metadata": {},
   "outputs": [],
   "source": [
    "fig, axes = plt.subplots(3, 3, figsize = (12,9) )\n",
    "plt.tight_layout(pad = 5)\n",
    "count = -1\n",
    "rowcount = 0\n",
    "time_cadence_correlations = pd.DataFrame(columns = ['member_id','NumRuns', 'Slope', 'Intercept', 'Pearson', 'pval'])\n",
    "for subj_id in unq_subj:\n",
    "    print('ID: ', subj_id)\n",
    "    rowcount += 1\n",
    "    print('Count: ',rowcount)\n",
    "    s_idx = challenge_fun_run.member_id == subj_id\n",
    "    print(len(s_idx))\n",
    "    if sum(s_idx) < 5:\n",
    "        print('Skipping Subject - <5 runs')\n",
    "    else:\n",
    "        time_of_run =  challenge_fun_run.converted_times[s_idx]\n",
    "        cadence_of_run = challenge_fun_run.average_cadence_running[s_idx]\n",
    "        if time_of_run.isnull().sum() > 0 or cadence_of_run.isnull().sum() > 0:\n",
    "            print('Skipping Subject - Null Values')\n",
    "        else:\n",
    "            count += 1\n",
    "            reg = linear_model.LinearRegression().fit(time_of_run.values.reshape(-1,1), cadence_of_run.values.reshape(-1,1))\n",
    "            try:    \n",
    "                temp_slope = round(float(reg.coef_), 4)\n",
    "                temp_intercept = round(float(reg.intercept_), 4)\n",
    "                temp_pearson = spy.stats.pearsonr(time_of_run.values, cadence_of_run.values)\n",
    "                num_runs = sum(s_idx)\n",
    "                print([subj_id,num_runs, temp_slope, temp_intercept, temp_pearson[0],temp_pearson[1]])\n",
    "                time_cadence_correlations.loc[count] =[subj_id,num_runs, temp_slope, temp_intercept, temp_pearson[0],temp_pearson[1]]\n",
    "            except:\n",
    "                print('Saving Data Failed')\n",
    "            if count < 9:\n",
    "                print('Graph Count:', count)\n",
    "                row = count//3\n",
    "                column = count%3\n",
    "                axes[row,column].scatter(time_of_run,cadence_of_run)\n",
    "   \n",
    "        "
   ]
  },
  {
   "cell_type": "code",
   "execution_count": null,
   "id": "98e6db45",
   "metadata": {},
   "outputs": [],
   "source": [
    "time_cadence_correlations"
   ]
  },
  {
   "cell_type": "code",
   "execution_count": null,
   "id": "37fb1cb9",
   "metadata": {},
   "outputs": [],
   "source": [
    "sb.histplot(time_cadence_correlations.Slope)"
   ]
  },
  {
   "cell_type": "code",
   "execution_count": null,
   "id": "5061c488",
   "metadata": {},
   "outputs": [],
   "source": [
    "sb.histplot(time_cadence_correlations.Intercept)"
   ]
  },
  {
   "cell_type": "code",
   "execution_count": null,
   "id": "8bf81e30",
   "metadata": {},
   "outputs": [],
   "source": [
    "sb.histplot(time_cadence_correlations.Pearson, binwidth = 0.05)"
   ]
  },
  {
   "cell_type": "code",
   "execution_count": null,
   "id": "0d76a8b6",
   "metadata": {},
   "outputs": [],
   "source": [
    "fig, axes = plt.subplots(3, 3, figsize = (12,9) )\n",
    "plt.tight_layout(pad = 5)\n",
    "count = -1\n",
    "rowcount = 0\n",
    "time_SL_correlations = pd.DataFrame(columns = ['member_id','NumRuns', 'Slope', 'Intercept', 'Pearson', 'pval'])\n",
    "for subj_id in unq_subj:\n",
    "    print('ID: ', subj_id)\n",
    "    rowcount += 1\n",
    "    print('Count: ',rowcount)\n",
    "    s_idx = challenge_fun_run.member_id == subj_id\n",
    "    print(len(s_idx))\n",
    "    if sum(s_idx) < 5:\n",
    "        print('Skipping Subject - <5 runs')\n",
    "    else:\n",
    "        time_of_run =  challenge_fun_run.converted_times[s_idx]\n",
    "        SL_of_run = challenge_fun_run.average_stride_length_running[s_idx]\n",
    "        if time_of_run.isnull().sum() > 0 or SL_of_run.isnull().sum() > 0:\n",
    "            print('Skipping Subject - Null Values')\n",
    "        else:\n",
    "            count += 1\n",
    "            reg = linear_model.LinearRegression().fit(time_of_run.values.reshape(-1,1), SL_of_run.values.reshape(-1,1))\n",
    "        #print(reg.coef_)\n",
    "       # print(reg.intercept_)\n",
    "       # print(spy.stats.pearsonr(time_of_run, kvert_of_run))\n",
    "            try:    \n",
    "                temp_slope = round(float(reg.coef_), 4)\n",
    "                temp_intercept = round(float(reg.intercept_), 4)\n",
    "                temp_pearson = spy.stats.pearsonr(time_of_run.values, SL_of_run.values)\n",
    "                num_runs = sum(s_idx)\n",
    "                print([subj_id,num_runs, temp_slope, temp_intercept, temp_pearson[0],temp_pearson[1]])\n",
    "                time_SL_correlations.loc[count] =[subj_id,num_runs, temp_slope, temp_intercept, temp_pearson[0],temp_pearson[1]]\n",
    "            except:\n",
    "                print('Saving Data Failed')\n",
    "            if count < 9:\n",
    "                print('Graph Count:', count)\n",
    "                row = count//3\n",
    "                column = count%3\n",
    "                axes[row,column].scatter(time_of_run,SL_of_run)\n",
    "            #axes[row,column].xaxis.set_major_formatter(mdates.DateFormatter('%H:%M:%S'))\n",
    "            #axes[row,column].tick_params(labelrotation=45)\n",
    "        \n",
    "            #plt.show()\n",
    "        "
   ]
  },
  {
   "cell_type": "code",
   "execution_count": null,
   "id": "3a259fa0",
   "metadata": {},
   "outputs": [],
   "source": [
    "time_SL_correlations"
   ]
  },
  {
   "cell_type": "code",
   "execution_count": null,
   "id": "1b8f404b",
   "metadata": {},
   "outputs": [],
   "source": [
    "sb.histplot(time_SL_correlations.Slope)"
   ]
  },
  {
   "cell_type": "code",
   "execution_count": null,
   "id": "232ef73b",
   "metadata": {},
   "outputs": [],
   "source": [
    "sb.histplot(time_SL_correlations.Intercept)"
   ]
  },
  {
   "cell_type": "code",
   "execution_count": null,
   "id": "cd7cb411",
   "metadata": {},
   "outputs": [],
   "source": [
    "sb.histplot(time_SL_correlations.Pearson, binwidth = 0.05)"
   ]
  },
  {
   "cell_type": "code",
   "execution_count": null,
   "id": "3dca0fd3",
   "metadata": {},
   "outputs": [],
   "source": [
    "sb.histplot(time_kvert_correlations.NumRuns, binwidth = 1)\n",
    "print('Avg # of runs: ', round(time_kvert_correlations.NumRuns.mean()))\n",
    "print('SD # of runs: ', round(time_kvert_correlations.NumRuns.std()))\n"
   ]
  },
  {
   "cell_type": "code",
   "execution_count": null,
   "id": "ac3711e3",
   "metadata": {},
   "outputs": [],
   "source": [
    "avg_kvert_cor = round(time_kvert_correlations.Pearson.mean(),3)\n",
    "SD_kvert_cor = round(time_kvert_correlations.Pearson.std(),3)\n",
    "CI_kvert = [round(avg_kvert_cor - (1.96*SD_kvert_cor),3), round(avg_kvert_cor + (1.96*SD_kvert_cor),3)]\n",
    "\n",
    "avg_cadence_cor = round(time_cadence_correlations.Pearson.mean(),3)\n",
    "SD_cadence_cor = round(time_cadence_correlations.Pearson.std(),3)\n",
    "CI_cadence = [round(avg_cadence_cor - (1.96*SD_cadence_cor),3), round(avg_cadence_cor + (1.96*SD_cadence_cor),3)]\n",
    "\n",
    "avg_SL_cor = round(time_SL_correlations.Pearson.mean(),3)\n",
    "SD_SL_cor = round(time_SL_correlations.Pearson.std(),3)\n",
    "CI_SL = [round(avg_SL_cor - (1.96*SD_SL_cor),3), round(avg_SL_cor + (1.96*SD_SL_cor),3)]\n",
    "\n",
    "print('Kvert Avg (CI): ', avg_kvert_cor, CI_kvert)\n",
    "print('Cadence Avg (CI): ', avg_cadence_cor, CI_cadence)\n",
    "print('SL Avg (CI): ', avg_SL_cor, CI_SL)"
   ]
  },
  {
   "cell_type": "code",
   "execution_count": null,
   "id": "7ad6e42b",
   "metadata": {},
   "outputs": [],
   "source": [
    "subj_array = random.sample(unq_subj, 10)\n",
    "subj_array"
   ]
  },
  {
   "cell_type": "code",
   "execution_count": null,
   "id": "33540eb1",
   "metadata": {},
   "outputs": [],
   "source": [
    "sklearn.metrics.r2_score"
   ]
  },
  {
   "cell_type": "code",
   "execution_count": null,
   "id": "602145de",
   "metadata": {},
   "outputs": [],
   "source": [
    "kvert_cor_table = pd.DataFrame(columns = ['iteration','NumRuns', 'Slope', 'Intercept', 'Pearson', 'pval'])\n",
    "cadence_cor_table = pd.DataFrame(columns = ['iteration','NumRuns', 'Slope', 'Intercept', 'Pearson', 'pval'])\n",
    "SL_cor_table = pd.DataFrame(columns = ['iteration','NumRuns', 'Slope', 'Intercept', 'Pearson', 'pval'])\n",
    "\n",
    "iter_count = -1\n",
    "while iter_count < 1000:\n",
    "    iter_count += 1\n",
    "    subj_array = random.sample(unq_subj, 10)\n",
    "    temp_time = challenge_fun_run.converted_times[challenge_fun_run.member_id.isin(subj_array)]\n",
    "    temp_kvert =  challenge_fun_run.average_kvert_running[challenge_fun_run.member_id.isin(subj_array)]\n",
    "    temp_cadence =  challenge_fun_run.average_cadence_running[challenge_fun_run.member_id.isin(subj_array)]\n",
    "    temp_SL = challenge_fun_run.average_stride_length_running[challenge_fun_run.member_id.isin(subj_array)]\n",
    "    if temp_time.isnull().sum() > 0 or temp_kvert.isnull().sum() > 0 or temp_cadence.isnull().sum() > 0 or temp_SL.isnull().sum() > 0:\n",
    "        iter_count = iter_count - 1\n",
    "        print('Skipping Iteration - Null Values')\n",
    "    else:\n",
    "        #count += 1\n",
    "        kvert_reg = linear_model.LinearRegression().fit(temp_time.values.reshape(-1,1), temp_kvert.values.reshape(-1,1))\n",
    "        cadence_reg = linear_model.LinearRegression().fit(temp_time.values.reshape(-1,1), temp_cadence.values.reshape(-1,1))\n",
    "        SL_reg = linear_model.LinearRegression().fit(temp_time.values.reshape(-1,1), temp_SL.values.reshape(-1,1))\n",
    "        try:    \n",
    "            temp_kvert_slope = round(float(kvert_reg.coef_), 4)\n",
    "            temp_kvert_intercept = round(float(kvert_reg.intercept_), 4)\n",
    "            temp_kvert_pearson = spy.stats.pearsonr(temp_time.values, temp_kvert.values)\n",
    "            temp_cadence_slope = round(float(cadence_reg.coef_), 4)\n",
    "            temp_cadence_intercept = round(float(cadence_reg.intercept_), 4)\n",
    "            temp_cadence_pearson = spy.stats.pearsonr(temp_time.values, temp_cadence.values)\n",
    "            temp_SL_slope = round(float(SL_reg.coef_), 4)\n",
    "            temp_SL_intercept = round(float(SL_reg.intercept_), 4)\n",
    "            temp_SL_pearson = spy.stats.pearsonr(temp_time.values, temp_SL.values)            \n",
    "            num_runs = sum(challenge_fun_run.member_id.isin(subj_array))\n",
    "            print(iter_count)\n",
    "            kvert_cor_table.loc[iter_count] =[iter_count, num_runs, temp_kvert_slope, temp_kvert_intercept, temp_kvert_pearson[0],temp_kvert_pearson[1]]\n",
    "            cadence_cor_table.loc[iter_count] =[iter_count, num_runs, temp_cadence_slope, temp_cadence_intercept, temp_cadence_pearson[0],temp_cadence_pearson[1]]\n",
    "            SL_cor_table.loc[iter_count] =[iter_count, num_runs, temp_SL_slope, temp_SL_intercept, temp_SL_pearson[0],temp_SL_pearson[1]]\n",
    "        except:\n",
    "            print('Saving Data Failed')\n",
    "    "
   ]
  },
  {
   "cell_type": "code",
   "execution_count": null,
   "id": "b3922780",
   "metadata": {},
   "outputs": [],
   "source": [
    "kvert_cor_table.Pearson**2"
   ]
  },
  {
   "cell_type": "code",
   "execution_count": null,
   "id": "2b500aea",
   "metadata": {},
   "outputs": [],
   "source": [
    "sb.histplot(kvert_cor_table.Pearson, binwidth = 0.05)"
   ]
  },
  {
   "cell_type": "code",
   "execution_count": null,
   "id": "e23d6de0",
   "metadata": {},
   "outputs": [],
   "source": [
    "sb.histplot(cadence_cor_table.Pearson, binwidth = 0.05)"
   ]
  },
  {
   "cell_type": "code",
   "execution_count": null,
   "id": "dbd26af1",
   "metadata": {},
   "outputs": [],
   "source": [
    "sb.histplot(SL_cor_table.Pearson, binwidth = 0.05)"
   ]
  },
  {
   "cell_type": "code",
   "execution_count": null,
   "id": "872d8415",
   "metadata": {},
   "outputs": [],
   "source": [
    "print('Avg # runs: ', round(kvert_cor_table.NumRuns.mean()))\n",
    "print('SD # runs: ', round(kvert_cor_table.NumRuns.std()))"
   ]
  },
  {
   "cell_type": "code",
   "execution_count": null,
   "id": "b9090df1",
   "metadata": {},
   "outputs": [],
   "source": [
    "avg_kvert_cor = round(kvert_cor_table.Pearson.mean(),3)\n",
    "SD_kvert_cor = round(kvert_cor_table.Pearson.std(),3)\n",
    "CI_kvert = [round(avg_kvert_cor - (1.96*SD_kvert_cor),3), round(avg_kvert_cor + (1.96*SD_kvert_cor),3)]\n",
    "\n",
    "avg_cadence_cor = round(cadence_cor_table.Pearson.mean(),3)\n",
    "SD_cadence_cor = round(cadence_cor_table.Pearson.std(),3)\n",
    "CI_cadence = [round(avg_cadence_cor - (1.96*SD_cadence_cor),3), round(avg_cadence_cor + (1.96*SD_cadence_cor),3)]\n",
    "\n",
    "avg_SL_cor = round(SL_cor_table.Pearson.mean(),3)\n",
    "SD_SL_cor = round(SL_cor_table.Pearson.std(),3)\n",
    "CI_SL = [round(avg_SL_cor - (1.96*SD_SL_cor),3), round(avg_SL_cor + (1.96*SD_SL_cor),3)]\n",
    "\n",
    "print('Kvert Avg (CI): ', avg_kvert_cor, CI_kvert)\n",
    "print('Cadence Avg (CI): ', avg_cadence_cor, CI_cadence)\n",
    "print('SL Avg (CI): ', avg_SL_cor, CI_SL)\n"
   ]
  },
  {
   "cell_type": "code",
   "execution_count": null,
   "id": "f559fff4",
   "metadata": {},
   "outputs": [],
   "source": [
    "tempDT"
   ]
  },
  {
   "cell_type": "code",
   "execution_count": null,
   "id": "0ae0dd7e",
   "metadata": {},
   "outputs": [],
   "source": [
    "temp_challenge_time_of_day = pd.to_datetime(challenge_fun_run.time_of_day, format='%H:%M:%S')\n",
    "plt.figure(figsize = (12,8))\n",
    "sb.histplot(temp_challenge_time_of_day, bins = 48)"
   ]
  },
  {
   "cell_type": "code",
   "execution_count": null,
   "id": "be5ca319",
   "metadata": {},
   "outputs": [],
   "source": [
    "tenAM = dt.datetime(1900, 1, 1, hour = 10, minute = 0, second = 0)\n",
    "elevenAM = dt.datetime(1900, 1, 1, hour = 11, minute = 0, second = 0)\n",
    "noon = dt.datetime(1900, 1,1, hour = 12, minute = 0, second = 0)\n",
    "twoPM = dt.datetime(1900, 1, 1, hour = 14, minute = 0, second = 0)\n",
    "sevenAM = dt.datetime(1900, 1, 1, hour = 7, minute = 0, second = 0)\n",
    "sevenPM = dt.datetime(1900, 1, 1, hour = 19, minute = 0, second = 0)\n",
    "sixPM = dt.datetime(1900, 1, 1, hour = 18, minute = 0, second = 0)\n",
    "threePM = dt.datetime(1900, 1, 1, hour = 15, minute = 0, second = 0)\n",
    "\n"
   ]
  },
  {
   "cell_type": "code",
   "execution_count": null,
   "id": "751a184e",
   "metadata": {},
   "outputs": [],
   "source": [
    "early_morning = challenge_fun_run[temp_challenge_time_of_day <= sevenAM]\n",
    "morning = challenge_fun_run[(temp_challenge_time_of_day > sevenAM) & (temp_challenge_time_of_day <= elevenAM)]\n",
    "midday = challenge_fun_run[(temp_challenge_time_of_day > elevenAM) & (temp_challenge_time_of_day <= threePM)]\n",
    "late_afternoon = challenge_fun_run[(temp_challenge_time_of_day > threePM) & (temp_challenge_time_of_day <= sevenPM)]\n",
    "night = challenge_fun_run[(temp_challenge_time_of_day > sevenPM)]"
   ]
  },
  {
   "cell_type": "code",
   "execution_count": null,
   "id": "cb9934e4",
   "metadata": {},
   "outputs": [],
   "source": [
    "def define_time_of_day(converted_time):\n",
    "    if converted_time <= 7:\n",
    "        period_of_day = 'Early Morning'\n",
    "    elif 7 < converted_time <= 11:\n",
    "        period_of_day = 'Morning'\n",
    "    elif 11 < converted_time <= 15:\n",
    "        period_of_day = 'Mid-day'  \n",
    "    elif 15 < converted_time <= 19:\n",
    "        period_of_day = 'Evening'\n",
    "    elif converted_time > 19:\n",
    "        period_of_day = 'Night'\n",
    "    return(period_of_day)"
   ]
  },
  {
   "cell_type": "code",
   "execution_count": null,
   "id": "4eb96599",
   "metadata": {},
   "outputs": [],
   "source": [
    "challenge_fun_run['Day_period'] = list(map(define_time_of_day, challenge_fun_run.converted_times))"
   ]
  },
  {
   "cell_type": "code",
   "execution_count": null,
   "id": "efb58089",
   "metadata": {},
   "outputs": [],
   "source": [
    "challenge_fun_run"
   ]
  },
  {
   "cell_type": "code",
   "execution_count": null,
   "id": "dce070ec",
   "metadata": {},
   "outputs": [],
   "source": [
    "kvert_anova_model = ols('average_kvert_running ~ C(Day_period)', data = challenge_fun_run).fit()\n",
    "kvert_anova_table = sm.stats.anova_lm(kvert_anova_model, typ=2)\n",
    "kvert_anova_table\n",
    "\n",
    "print(\"Early Morning mean kvert: \", challenge_fun_run.average_kvert_running[challenge_fun_run.Day_period == 'Early Morning'].mean(),\n",
    "     ';SD: ', challenge_fun_run.average_kvert_running[challenge_fun_run.Day_period == 'Early Morning'].std(),\n",
    "     '; # runs: ', sum(challenge_fun_run.Day_period == 'Early Morning'))\n",
    "print(\"Morning mean kvert: \", challenge_fun_run.average_kvert_running[challenge_fun_run.Day_period == 'Morning'].mean(),\n",
    "     ';SD: ', challenge_fun_run.average_kvert_running[challenge_fun_run.Day_period == 'Morning'].std(),\n",
    "     ';# runs: ', sum(challenge_fun_run.Day_period == 'Morning'))\n",
    "print(\"Midday mean kvert: \", challenge_fun_run.average_kvert_running[challenge_fun_run.Day_period == 'Mid-day'].mean(),\n",
    "     ';SD: ', challenge_fun_run.average_kvert_running[challenge_fun_run.Day_period == 'Mid-day'].std(),\n",
    "     ';# runs: ', sum(challenge_fun_run.Day_period == 'Mid-day'))\n",
    "print(\"Afternoon mean kvert: \", challenge_fun_run.average_kvert_running[challenge_fun_run.Day_period == 'Evening'].mean(),\n",
    "     ';SD: ', challenge_fun_run.average_kvert_running[challenge_fun_run.Day_period == 'Evening'].std(),\n",
    "     ';# runs: ', sum(challenge_fun_run.Day_period == 'Evening'))\n",
    "print(\"Night mean kvert: \", challenge_fun_run.average_kvert_running[challenge_fun_run.Day_period == 'Night'].mean(),\n",
    "     ';SD: ', challenge_fun_run.average_kvert_running[challenge_fun_run.Day_period == 'Night'].std(),\n",
    "     ';# runs: ', sum(challenge_fun_run.Day_period == 'Night'))\n",
    "\n",
    "tukey_kvert_df = challenge_fun_run.filter(items=['average_kvert_running', 'Day_period']).dropna()\n",
    "#mc_kvert = multi.MultiComparison(tukey_kvert_df['average_kvert_running'], tukey_kvert_df['Day_period'])\n",
    "#kvert_tukey_result = mc_kvert.tukeyhsd()\n",
    "kvert_tukey = pairwise_tukeyhsd(endog = tukey_kvert_df.average_kvert_running, groups = tukey_kvert_df.Day_period, alpha = 0.05)\n",
    "print(kvert_tukey)"
   ]
  },
  {
   "cell_type": "code",
   "execution_count": null,
   "id": "44461386",
   "metadata": {},
   "outputs": [],
   "source": [
    "# function to calculate Cohen's d for independent samples - from Machine Learning Mastery\n",
    "def cohend(d1, d2):\n",
    "    # calculate the size of samples\n",
    "    n1, n2 = len(d1), len(d2)\n",
    "    # calculate the variance of the samples\n",
    "    s1, s2 = var(d1, ddof=1), var(d2, ddof=1)\n",
    "    # calculate the pooled standard deviation\n",
    "    s = sqrt(((n1 - 1) * s1 + (n2 - 1) * s2) / (n1 + n2 - 2))\n",
    "    # calculate the means of the samples\n",
    "    u1, u2 = mean(d1), mean(d2)\n",
    "    # calculate the effect size\n",
    "    return (u1 - u2) / s"
   ]
  },
  {
   "cell_type": "code",
   "execution_count": null,
   "id": "15caccd6",
   "metadata": {},
   "outputs": [],
   "source": [
    "kvert_Emorn_morn_d = cohend(tukey_kvert_df.average_kvert_running[tukey_kvert_df.Day_period == 'Early Morning'],\n",
    "                      tukey_kvert_df.average_kvert_running[tukey_kvert_df.Day_period == 'Morning'])\n",
    "kvert_Emorn_evening_d = cohend(tukey_kvert_df.average_kvert_running[tukey_kvert_df.Day_period == 'Early Morning'],\n",
    "                      tukey_kvert_df.average_kvert_running[tukey_kvert_df.Day_period == 'Evening'])\n",
    "kvert_Midday_evening_d = cohend(tukey_kvert_df.average_kvert_running[tukey_kvert_df.Day_period == 'Mid-day'],\n",
    "                      tukey_kvert_df.average_kvert_running[tukey_kvert_df.Day_period == 'Evening'])\n",
    "kvert_evening_night_d = cohend(tukey_kvert_df.average_kvert_running[tukey_kvert_df.Day_period == 'Evening'],\n",
    "                      tukey_kvert_df.average_kvert_running[tukey_kvert_df.Day_period == 'Night'])\n",
    "\n",
    "print('Early Morning - Morning: %.3f' % kvert_Emorn_morn_d)\n",
    "print('Early Morning - Evening: %.3f' % kvert_Emorn_evening_d)\n",
    "print('Midday - Evening: %.3f' % kvert_Midday_evening_d)\n",
    "print('Evening - Night: %.3f' % kvert_evening_night_d)\n",
    "\n"
   ]
  },
  {
   "cell_type": "code",
   "execution_count": null,
   "id": "04183d14",
   "metadata": {},
   "outputs": [],
   "source": [
    "cadence_anova_model = ols('average_cadence_running ~ C(Day_period)', data = challenge_fun_run).fit()\n",
    "cadence_anova_table = sm.stats.anova_lm(cadence_anova_model, typ=2)\n",
    "cadence_anova_table\n",
    "\n",
    "print(\"Early Morning mean cadence: \", challenge_fun_run.average_cadence_running[challenge_fun_run.Day_period == 'Early Morning'].mean(),\n",
    "     ';SD: ', challenge_fun_run.average_cadence_running[challenge_fun_run.Day_period == 'Early Morning'].std(),\n",
    "     '; # runs: ', sum(challenge_fun_run.Day_period == 'Early Morning'))\n",
    "print(\"Morning mean cadence: \", challenge_fun_run.average_cadence_running[challenge_fun_run.Day_period == 'Morning'].mean(),\n",
    "     ';SD: ', challenge_fun_run.average_cadence_running[challenge_fun_run.Day_period == 'Morning'].std(),\n",
    "     ';# runs: ', sum(challenge_fun_run.Day_period == 'Morning'))\n",
    "print(\"Midday mean cadence: \", challenge_fun_run.average_cadence_running[challenge_fun_run.Day_period == 'Mid-day'].mean(),\n",
    "     ';SD: ', challenge_fun_run.average_cadence_running[challenge_fun_run.Day_period == 'Mid-day'].std(),\n",
    "     ';# runs: ', sum(challenge_fun_run.Day_period == 'Mid-day'))\n",
    "print(\"Afternoon mean cadence: \", challenge_fun_run.average_cadence_running[challenge_fun_run.Day_period == 'Evening'].mean(),\n",
    "     ';SD: ', challenge_fun_run.average_cadence_running[challenge_fun_run.Day_period == 'Evening'].std(),\n",
    "     ';# runs: ', sum(challenge_fun_run.Day_period == 'Evening'))\n",
    "print(\"Night mean cadence: \", challenge_fun_run.average_cadence_running[challenge_fun_run.Day_period == 'Night'].mean(),\n",
    "     ';SD: ', challenge_fun_run.average_cadence_running[challenge_fun_run.Day_period == 'Night'].std(),\n",
    "     ';# runs: ', sum(challenge_fun_run.Day_period == 'Night'))\n",
    "\n",
    "tukey_cadence_df = challenge_fun_run.filter(items=['average_cadence_running', 'Day_period']).dropna()\n",
    "#mc_cadence = multi.MultiComparison(tukey_cadence_df['average_cadence_running'], tukey_cadence_df['Day_period'])\n",
    "#cadence_tukey_result = mc_cadence.tukeyhsd()\n",
    "cadence_tukey = pairwise_tukeyhsd(endog = tukey_cadence_df.average_cadence_running, groups = tukey_cadence_df.Day_period, alpha = 0.05)\n",
    "print(cadence_tukey)"
   ]
  },
  {
   "cell_type": "code",
   "execution_count": null,
   "id": "51fef38f",
   "metadata": {},
   "outputs": [],
   "source": [
    "cadence_Emorn_morn_d = cohend(tukey_cadence_df.average_cadence_running[tukey_cadence_df.Day_period == 'Early Morning'],\n",
    "                      tukey_cadence_df.average_cadence_running[tukey_cadence_df.Day_period == 'Morning'])\n",
    "cadence_Emorn_midday_d = cohend(tukey_cadence_df.average_cadence_running[tukey_cadence_df.Day_period == 'Early Morning'],\n",
    "                      tukey_cadence_df.average_cadence_running[tukey_cadence_df.Day_period == 'Mid-day'])\n",
    "cadence_Emorn_evening_d = cohend(tukey_cadence_df.average_cadence_running[tukey_cadence_df.Day_period == 'Early Morning'],\n",
    "                      tukey_cadence_df.average_cadence_running[tukey_cadence_df.Day_period == 'Evening'])\n",
    "cadence_Emorn_night_d = cohend(tukey_cadence_df.average_cadence_running[tukey_cadence_df.Day_period == 'Early Morning'],\n",
    "                      tukey_cadence_df.average_cadence_running[tukey_cadence_df.Day_period == 'Night'])\n",
    "cadence_morning_midday_d = cohend(tukey_cadence_df.average_cadence_running[tukey_cadence_df.Day_period == 'Morning'],\n",
    "                      tukey_cadence_df.average_cadence_running[tukey_cadence_df.Day_period == 'Mid-day'])\n",
    "cadence_morning_evening_d = cohend(tukey_cadence_df.average_cadence_running[tukey_cadence_df.Day_period == 'Morning'],\n",
    "                      tukey_cadence_df.average_cadence_running[tukey_cadence_df.Day_period == 'Evening'])\n",
    "cadence_morning_night_d = cohend(tukey_cadence_df.average_cadence_running[tukey_cadence_df.Day_period == 'Morning'],\n",
    "                      tukey_cadence_df.average_cadence_running[tukey_cadence_df.Day_period == 'Night'])\n",
    "cadence_midday_evening_d = cohend(tukey_cadence_df.average_cadence_running[tukey_cadence_df.Day_period == 'Mid-day'],\n",
    "                      tukey_cadence_df.average_cadence_running[tukey_cadence_df.Day_period == 'Evening'])\n",
    "cadence_midday_night_d = cohend(tukey_cadence_df.average_cadence_running[tukey_cadence_df.Day_period == 'Mid-day'],\n",
    "                      tukey_cadence_df.average_cadence_running[tukey_cadence_df.Day_period == 'Night'])\n",
    "cadence_evening_night_d = cohend(tukey_cadence_df.average_cadence_running[tukey_cadence_df.Day_period == 'Evening'],\n",
    "                      tukey_cadence_df.average_cadence_running[tukey_cadence_df.Day_period == 'Night'])\n",
    "\n",
    "print('Early Morning - Morning: %.3f' % cadence_Emorn_morn_d)\n",
    "print('Early Morning - Midday: %.3f' % cadence_Emorn_midday_d)\n",
    "print('Early Morning - Evening: %.3f' % cadence_Emorn_evening_d)\n",
    "print('Early Morning - Night: %.3f' % cadence_Emorn_night_d)\n",
    "print('Morning - Midday: %.3f' % cadence_morning_midday_d)\n",
    "print('Morning - Evening: %.3f' % cadence_morning_evening_d)\n",
    "print('Morning - Night: %.3f' % cadence_morning_night_d)\n",
    "print('Midday - Evening: %.3f' % cadence_midday_evening_d)\n",
    "print('Midday - Night: %.3f' % cadence_midday_night_d)\n",
    "print('Evening - Night: %.3f' % cadence_evening_night_d)"
   ]
  },
  {
   "cell_type": "code",
   "execution_count": null,
   "id": "22962cc8",
   "metadata": {},
   "outputs": [],
   "source": [
    "stride_length_anova_model = ols('average_stride_length_running ~ C(Day_period)', data = challenge_fun_run).fit()\n",
    "stride_length_anova_table = sm.stats.anova_lm(stride_length_anova_model, typ=2)\n",
    "stride_length_anova_table\n",
    "\n",
    "print(\"Early Morning mean stride_length: \", challenge_fun_run.average_stride_length_running[challenge_fun_run.Day_period == 'Early Morning'].mean(),\n",
    "     ';SD: ', challenge_fun_run.average_stride_length_running[challenge_fun_run.Day_period == 'Early Morning'].std(),\n",
    "     '; # runs: ', sum(challenge_fun_run.Day_period == 'Early Morning'))\n",
    "print(\"Morning mean stride_length: \", challenge_fun_run.average_stride_length_running[challenge_fun_run.Day_period == 'Morning'].mean(),\n",
    "     ';SD: ', challenge_fun_run.average_stride_length_running[challenge_fun_run.Day_period == 'Morning'].std(),\n",
    "     ';# runs: ', sum(challenge_fun_run.Day_period == 'Morning'))\n",
    "print(\"Midday mean stride_length: \", challenge_fun_run.average_stride_length_running[challenge_fun_run.Day_period == 'Mid-day'].mean(),\n",
    "     ';SD: ', challenge_fun_run.average_stride_length_running[challenge_fun_run.Day_period == 'Mid-day'].std(),\n",
    "     ';# runs: ', sum(challenge_fun_run.Day_period == 'Mid-day'))\n",
    "print(\"Afternoon mean stride_length: \", challenge_fun_run.average_stride_length_running[challenge_fun_run.Day_period == 'Evening'].mean(),\n",
    "     ';SD: ', challenge_fun_run.average_stride_length_running[challenge_fun_run.Day_period == 'Evening'].std(),\n",
    "     ';# runs: ', sum(challenge_fun_run.Day_period == 'Evening'))\n",
    "print(\"Night mean stride_length: \", challenge_fun_run.average_stride_length_running[challenge_fun_run.Day_period == 'Night'].mean(),\n",
    "     ';SD: ', challenge_fun_run.average_stride_length_running[challenge_fun_run.Day_period == 'Night'].std(),\n",
    "     ';# runs: ', sum(challenge_fun_run.Day_period == 'Night'))\n",
    "\n",
    "tukey_stride_length_df = challenge_fun_run.filter(items=['average_stride_length_running', 'Day_period']).dropna()\n",
    "#mc_stride_length = multi.MultiComparison(tukey_stride_length_df['average_stride_length_running'], tukey_stride_length_df['Day_period'])\n",
    "#stride_length_tukey_result = mc_stride_length.tukeyhsd()\n",
    "stride_length_tukey = pairwise_tukeyhsd(endog = tukey_stride_length_df.average_stride_length_running, groups = tukey_stride_length_df.Day_period, alpha = 0.05)\n",
    "print(stride_length_tukey)"
   ]
  },
  {
   "cell_type": "code",
   "execution_count": null,
   "id": "6ed5f247",
   "metadata": {},
   "outputs": [],
   "source": [
    "stride_length_Emorn_morn_d = cohend(tukey_stride_length_df.average_stride_length_running[tukey_stride_length_df.Day_period == 'Early Morning'],\n",
    "                      tukey_stride_length_df.average_stride_length_running[tukey_stride_length_df.Day_period == 'Morning'])\n",
    "stride_length_Emorn_midday_d = cohend(tukey_stride_length_df.average_stride_length_running[tukey_stride_length_df.Day_period == 'Early Morning'],\n",
    "                      tukey_stride_length_df.average_stride_length_running[tukey_stride_length_df.Day_period == 'Mid-day'])\n",
    "stride_length_Emorn_evening_d = cohend(tukey_stride_length_df.average_stride_length_running[tukey_stride_length_df.Day_period == 'Early Morning'],\n",
    "                      tukey_stride_length_df.average_stride_length_running[tukey_stride_length_df.Day_period == 'Evening'])\n",
    "stride_length_Emorn_night_d = cohend(tukey_stride_length_df.average_stride_length_running[tukey_stride_length_df.Day_period == 'Early Morning'],\n",
    "                      tukey_stride_length_df.average_stride_length_running[tukey_stride_length_df.Day_period == 'Night'])\n",
    "stride_length_morning_midday_d = cohend(tukey_stride_length_df.average_stride_length_running[tukey_stride_length_df.Day_period == 'Morning'],\n",
    "                      tukey_stride_length_df.average_stride_length_running[tukey_stride_length_df.Day_period == 'Mid-day'])\n",
    "stride_length_morning_evening_d = cohend(tukey_stride_length_df.average_stride_length_running[tukey_stride_length_df.Day_period == 'Morning'],\n",
    "                      tukey_stride_length_df.average_stride_length_running[tukey_stride_length_df.Day_period == 'Evening'])\n",
    "stride_length_morning_night_d = cohend(tukey_stride_length_df.average_stride_length_running[tukey_stride_length_df.Day_period == 'Morning'],\n",
    "                      tukey_stride_length_df.average_stride_length_running[tukey_stride_length_df.Day_period == 'Night'])\n",
    "stride_length_midday_evening_d = cohend(tukey_stride_length_df.average_stride_length_running[tukey_stride_length_df.Day_period == 'Mid-day'],\n",
    "                      tukey_stride_length_df.average_stride_length_running[tukey_stride_length_df.Day_period == 'Evening'])\n",
    "stride_length_midday_night_d = cohend(tukey_stride_length_df.average_stride_length_running[tukey_stride_length_df.Day_period == 'Mid-day'],\n",
    "                      tukey_stride_length_df.average_stride_length_running[tukey_stride_length_df.Day_period == 'Night'])\n",
    "stride_length_evening_night_d = cohend(tukey_stride_length_df.average_stride_length_running[tukey_stride_length_df.Day_period == 'Evening'],\n",
    "                      tukey_stride_length_df.average_stride_length_running[tukey_stride_length_df.Day_period == 'Night'])\n",
    "\n",
    "print('Early Morning - Morning: %.3f' % stride_length_Emorn_morn_d)\n",
    "print('Early Morning - Midday: %.3f' % stride_length_Emorn_midday_d)\n",
    "print('Early Morning - Evening: %.3f' % stride_length_Emorn_evening_d)\n",
    "print('Early Morning - Night: %.3f' % stride_length_Emorn_night_d)\n",
    "print('Morning - Midday: %.3f' % stride_length_morning_midday_d)\n",
    "print('Morning - Evening: %.3f' % stride_length_morning_evening_d)\n",
    "print('Morning - Night: %.3f' % stride_length_morning_night_d)\n",
    "print('Midday - Evening: %.3f' % stride_length_midday_evening_d)\n",
    "print('Midday - Night: %.3f' % stride_length_midday_night_d)\n",
    "print('Evening - Night: %.3f' % stride_length_evening_night_d)"
   ]
  },
  {
   "cell_type": "code",
   "execution_count": null,
   "id": "2e39af77",
   "metadata": {},
   "outputs": [],
   "source": [
    "runmetricsV3.to_csv('runmetricsV3.csv')"
   ]
  }
 ],
 "metadata": {
  "kernelspec": {
   "display_name": "Python 3",
   "language": "python",
   "name": "python3"
  },
  "language_info": {
   "codemirror_mode": {
    "name": "ipython",
    "version": 3
   },
   "file_extension": ".py",
   "mimetype": "text/x-python",
   "name": "python",
   "nbconvert_exporter": "python",
   "pygments_lexer": "ipython3",
   "version": "3.8.8"
  }
 },
 "nbformat": 4,
 "nbformat_minor": 5
}
